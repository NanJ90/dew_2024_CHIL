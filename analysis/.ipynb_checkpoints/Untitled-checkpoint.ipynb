{
 "cells": [
  {
   "cell_type": "code",
   "execution_count": 75,
   "id": "bdb5c701-adc1-486f-8afc-aab772ba8178",
   "metadata": {},
   "outputs": [],
   "source": [
    "import glob\n",
    "from itertools import product\n",
    "import os\n",
    "\n",
    "from matplotlib import pyplot as plt\n",
    "import matplotlib.patches as mpatches\n",
    "import numpy as np\n",
    "import pandas as pd\n",
    "import seaborn as sns\n"
   ]
  },
  {
   "cell_type": "code",
   "execution_count": 95,
   "id": "fc53c103-e307-477f-9569-b10208af32eb",
   "metadata": {},
   "outputs": [],
   "source": [
    "\n",
    "def get_dataset_characteristics(dataset_path):\n",
    "    df = pd.read_csv(dataset_path)\n",
    "    n_samples, n_cols = df.shape\n",
    "\n",
    "    # ...\n",
    "\n",
    "    return n_cols, n_samples\n",
    "\n",
    "\n",
    "def get_correlation_distribution(df: pd.DataFrame, how='max'):\n",
    "    assert how in ['all', 'median', 'mean', 'max', 'min']\n",
    "    corr_df = df.corr()\n",
    "    if how == 'all':\n",
    "        relevant_entries = [\n",
    "            (x, y) \n",
    "            for x, y in product(range(corr_df.shape[0]), range(corr_df.shape[1]))\n",
    "            if x < y\n",
    "        ]\n",
    "        correlations = [corr_df.iloc[relevant_entries[i]] for i in range(len(relevant_entries))]\n",
    "        return correlations\n",
    "    else:\n",
    "        abs_corr_df = df.corr().abs()\n",
    "        abs_corr_df.values[[np.arange(abs_corr_df.shape[0])]*2] = abs_corr_df.median(axis=0)\n",
    "        stat_corrs = eval('abs_corr_df.{}(axis=0)'.format(how))\n",
    "        return stat_corrs\n",
    "\n",
    "\n",
    "def plot_correlation_distribution(df=None, correlations=None, title='', color='blue', how='all'):\n",
    "    if df is not None:\n",
    "        # correlations = get_correlation_distribution(df)\n",
    "        correlations = get_correlation_distribution(df, how=how)\n",
    "    assert correlations is not None\n",
    "    sns.histplot(correlations, stat='percent', color=color, multiple='stack')\n",
    "    "
   ]
  },
  {
   "cell_type": "code",
   "execution_count": 139,
   "id": "ed160cd0-ef12-4db7-b894-0ad96548bc4f",
   "metadata": {},
   "outputs": [],
   "source": [
    "def get_clf_diversity_impact_single_experiment(experiment_trial_dir, n_baselines=8, n_ensembles=5):\n",
    "    preds_df = pd.read_csv(os.path.join(experiment_trial_dir, 'results', 'predictions_0.csv'), index_col=0)\n",
    "    std_per_sample = preds_df.iloc[:, 0: n_baselines].std(axis=1)\n",
    "    overall_diversity = np.mean(std_per_sample)\n",
    "    metrics_df = pd.read_csv(os.path.join(experiment_trial_dir, 'final_results.csv'), index_col=0)\n",
    "    \n",
    "    ensembles_aucs = metrics_df.iloc[0, -n_ensembles:]\n",
    "    ensembles_aucs['dew_full_outperforms_uniform'] = ensembles_aucs['dew_top_None'] - ensembles_aucs['Uniform Model Averaging'] \n",
    "    ensembles_aucs['dew_top_1_outperforms_uniform'] = ensembles_aucs['dew_top_1'] - ensembles_aucs['Uniform Model Averaging'] \n",
    "    ensembles_aucs['dew_top_3_outperforms_uniform'] = ensembles_aucs['dew_top_3'] - ensembles_aucs['Uniform Model Averaging'] \n",
    "    return overall_diversity, ensembles_aucs\n",
    "\n",
    "\n",
    "def get_dataset_size_impact_single_experiment(experiment_trial_dir, df, n_ensembles=5):\n",
    "    metrics_df = pd.read_csv(os.path.join(experiment_trial_dir, 'final_results.csv'), index_col=0)\n",
    "    ensembles_aucs = metrics_df.iloc[0, -n_ensembles:]\n",
    "    ensembles_aucs['dew_full_outperforms_uniform'] = ensembles_aucs['dew_top_None'] - ensembles_aucs['Uniform Model Averaging'] \n",
    "    ensembles_aucs['dew_top_1_outperforms_uniform'] = ensembles_aucs['dew_top_1'] - ensembles_aucs['Uniform Model Averaging'] \n",
    "    ensembles_aucs['dew_top_3_outperforms_uniform'] = ensembles_aucs['dew_top_3'] - ensembles_aucs['Uniform Model Averaging'] \n",
    "    n_samples = df.shape[0]\n",
    "    return n_samples, ensembles_aucs"
   ]
  },
  {
   "cell_type": "markdown",
   "id": "9b2a118a-0143-485e-92e8-0674422f8ce9",
   "metadata": {},
   "source": [
    "## Analysis"
   ]
  },
  {
   "cell_type": "code",
   "execution_count": null,
   "id": "c4b0e94b-57e9-4cd8-90cf-824ce3db850f",
   "metadata": {},
   "outputs": [],
   "source": []
  },
  {
   "cell_type": "code",
   "execution_count": 147,
   "id": "e6e61132-b507-49ce-acd9-140387a218b3",
   "metadata": {},
   "outputs": [],
   "source": [
    "import sys\n",
    "sys.path.append('../src')\n",
    "from data_loaders import DataLoadersEnum\n",
    "\n",
    "CURRENT_SUPPORTED_DATALOADERS = {\n",
    "    'eeg_eye_state': DataLoadersEnum.prepare_eeg_eye_data,\n",
    "    'Cleveland Heart Disease': DataLoadersEnum.prepare_cleveland_heart_data,\n",
    "    'diabetic_retinopathy': DataLoadersEnum.prepare_diabetic_retinopathy_dataset,\n",
    "    'wpbc': DataLoadersEnum.prepare_wpbc_data,\n",
    "    'wdbc': DataLoadersEnum.prepare_wdbc_data,\n",
    "    'parkinsons': DataLoadersEnum.prepare_parkinsons_data,\n",
    "    'cervical_cancer': DataLoadersEnum.prepare_cervical_cancer_data,\n",
    "    'myocardial_infarction': DataLoadersEnum.prepare_myocardial_infarction_data\n",
    "}"
   ]
  },
  {
   "cell_type": "code",
   "execution_count": 151,
   "id": "ce4c0d7f-27e4-49a1-a283-7ce17f5d552f",
   "metadata": {},
   "outputs": [
    {
     "name": "stdout",
     "output_type": "stream",
     "text": [
      "/Users/adamcatto/Dropbox/CUNY/Research/dynamime/Experiment_Trials/diabetic_retinopathy_final/MNAR_Experiment_2022-08-16 15:32:56.846367/MNAR\n",
      "/Users/adamcatto/Dropbox/CUNY/Research/dynamime/Experiment_Trials/diabetic_retinopathy_final/MAR_Experiment_2022-08-16 15:24:22.078615/MAR\n",
      "/Users/adamcatto/Dropbox/CUNY/Research/dynamime/Experiment_Trials/diabetic_retinopathy_final/MCAR_Experiment_2022-08-16 15:15:03.445669/MCAR\n",
      "/Users/adamcatto/Dropbox/CUNY/Research/dynamime/Experiment_Trials/eeg_eye_state/MCAR_Experiment_2022-08-16 15:45:56.188662/MCAR\n",
      "/Users/adamcatto/Dropbox/CUNY/Research/dynamime/Experiment_Trials/eeg_eye_state/MAR_Experiment_2022-08-16 23:00:10.729475/MAR\n",
      "/Users/adamcatto/Dropbox/CUNY/Research/dynamime/Experiment_Trials/wisconsin_bc_diagnosis/MCAR_Experiment_2022-09-09 13:21:35.626704/MCAR\n",
      "/Users/adamcatto/Dropbox/CUNY/Research/dynamime/Experiment_Trials/wisconsin_bc_diagnosis/MAR_Experiment_2022-09-09 13:30:31.870045/MAR\n",
      "/Users/adamcatto/Dropbox/CUNY/Research/dynamime/Experiment_Trials/wisconsin_bc_diagnosis/MNAR_Experiment_2022-09-09 13:39:07.958691/MNAR\n",
      "/Users/adamcatto/Dropbox/CUNY/Research/dynamime/Experiment_Trials/wisconsin_bc_prognosis/MCAR_Experiment_2022-08-30 16:09:56.106443/MCAR\n",
      "/Users/adamcatto/Dropbox/CUNY/Research/dynamime/Experiment_Trials/wisconsin_bc_prognosis/MNAR_Experiment_2022-08-30 16:17:55.780022/MNAR\n",
      "/Users/adamcatto/Dropbox/CUNY/Research/dynamime/Experiment_Trials/wisconsin_bc_prognosis/MAR_Experiment_2022-08-30 16:14:01.627287/MAR\n",
      "/Users/adamcatto/Dropbox/CUNY/Research/dynamime/Experiment_Trials/cleveland_heart_disease/MAR_Experiment_2022-09-13 15:41:26.369671/MAR\n",
      "/Users/adamcatto/Dropbox/CUNY/Research/dynamime/Experiment_Trials/cleveland_heart_disease/MCAR_Experiment_2022-09-13 15:29:21.779245/MCAR\n",
      "/Users/adamcatto/Dropbox/CUNY/Research/dynamime/Experiment_Trials/cleveland_heart_disease/MNAR_Experiment_2022-09-13 15:54:29.195082/MNAR\n"
     ]
    },
    {
     "name": "stderr",
     "output_type": "stream",
     "text": [
      "/Users/adamcatto/opt/anaconda3/lib/python3.8/site-packages/seaborn/_decorators.py:36: FutureWarning: Pass the following variables as keyword args: x, y. From version 0.12, the only valid positional argument will be `data`, and passing other arguments without an explicit keyword will result in an error or misinterpretation.\n",
      "  warnings.warn(\n"
     ]
    },
    {
     "data": {
      "text/plain": [
       "Text(0.5, 1.0, 'DEW-Uniform Discrepancy vs. Number of samples')"
      ]
     },
     "execution_count": 151,
     "metadata": {},
     "output_type": "execute_result"
    },
    {
     "data": {
      "image/png": "[encoded data removed]",
      "text/plain": [
       "<Figure size 864x864 with 1 Axes>"
      ]
     },
     "metadata": {
      "needs_background": "light"
     },
     "output_type": "display_data"
    }
   ],
   "source": [
    "exp_dir = '/Users/adamcatto/Dropbox/CUNY/Research/dynamime/Experiment_Trials'\n",
    "experiment_types = ['diabetic_retinopathy_final', 'eeg_eye_state', 'wisconsin_bc_diagnosis', 'wisconsin_bc_prognosis', 'cleveland_heart_disease']\n",
    "corresponding_dataloaders = [\n",
    "    DataLoadersEnum.prepare_diabetic_retinopathy_dataset,\n",
    "    DataLoadersEnum.prepare_eeg_eye_data,\n",
    "    DataLoadersEnum.prepare_wdbc_data,\n",
    "    DataLoadersEnum.prepare_wpbc_data,\n",
    "    DataLoadersEnum.prepare_cleveland_heart_data\n",
    "]\n",
    "\n",
    "exp_to_loader_mapping = {k: v for k, v in zip(experiment_types, corresponding_dataloaders)}\n",
    "\n",
    "exps = [os.path.join(exp_dir, exp_type) for exp_type in experiment_types]\n",
    "all_exp_dirs = []\n",
    "for exp in exps:\n",
    "    all_exp_dirs += list(glob.glob(os.path.join(exp, '**', '**')))\n",
    "\n",
    "all_n_samples = []\n",
    "all_aucs = []\n",
    "all_diversity_scores = []\n",
    "\n",
    "for e in all_exp_dirs:\n",
    "    print(e)\n",
    "    diversity_score, aucs = get_clf_diversity_impact_single_experiment(e)\n",
    "    custom_exp_object = exp_to_loader_mapping[e.split('/')[8]]()\n",
    "    df = custom_exp_object[0]\n",
    "    n_samples, aucs = get_dataset_size_impact_single_experiment(experiment_trial_dir=e, df=df)\n",
    "    all_diversity_scores.append(diversity_score)\n",
    "    all_n_samples.append(n_samples)\n",
    "    all_aucs.append(aucs['dew_full_outperforms_uniform'])\n",
    "    \n",
    "plt.figure(figsize=(12,12))\n",
    "sns.scatterplot(all_n_samples, np.array(all_aucs)*100)\n",
    "plt.ylabel('Percent Improvement, DEW over Uniform Weights (%)')\n",
    "plt.xlabel('Number of samples in dataset')\n",
    "plt.title('DEW-Uniform Discrepancy vs. Number of samples')\n",
    "    "
   ]
  },
  {
   "cell_type": "code",
   "execution_count": 152,
   "id": "7195d9c0-7575-48a5-aed9-b3c2ba55c47d",
   "metadata": {},
   "outputs": [
    {
     "name": "stderr",
     "output_type": "stream",
     "text": [
      "/Users/adamcatto/opt/anaconda3/lib/python3.8/site-packages/seaborn/_decorators.py:36: FutureWarning: Pass the following variables as keyword args: x, y. From version 0.12, the only valid positional argument will be `data`, and passing other arguments without an explicit keyword will result in an error or misinterpretation.\n",
      "  warnings.warn(\n"
     ]
    },
    {
     "data": {
      "text/plain": [
       "Text(0.5, 1.0, 'DEW-Uniform Discrepancy vs. Classifier Diversity')"
      ]
     },
     "execution_count": 152,
     "metadata": {},
     "output_type": "execute_result"
    },
    {
     "data": {
      "image/png": "[encoded data removed]",
      "text/plain": [
       "<Figure size 864x864 with 1 Axes>"
      ]
     },
     "metadata": {
      "needs_background": "light"
     },
     "output_type": "display_data"
    }
   ],
   "source": [
    "plt.figure(figsize=(12,12))\n",
    "sns.scatterplot(all_diversity_scores, np.array(all_aucs)*100)\n",
    "plt.ylabel('Percent Improvement, DEW over Uniform Weights')\n",
    "plt.xlabel(\"Average of Baseline Classifiers' standard deviation of probability predictions\")\n",
    "plt.title('DEW-Uniform Discrepancy vs. Classifier Diversity')"
   ]
  },
  {
   "cell_type": "code",
   "execution_count": 160,
   "id": "f67c490c-20aa-4d53-8996-ffc3cec5b42a",
   "metadata": {},
   "outputs": [
    {
     "data": {
      "text/html": [
       "<div>\n",
       "<style scoped>\n",
       "    .dataframe tbody tr th:only-of-type {\n",
       "        vertical-align: middle;\n",
       "    }\n",
       "\n",
       "    .dataframe tbody tr th {\n",
       "        vertical-align: top;\n",
       "    }\n",
       "\n",
       "    .dataframe thead th {\n",
       "        text-align: right;\n",
       "    }\n",
       "</style>\n",
       "<table border=\"1\" class=\"dataframe\">\n",
       "  <thead>\n",
       "    <tr style=\"text-align: right;\">\n",
       "      <th></th>\n",
       "      <th>Uniform Model Averaging</th>\n",
       "      <th>stacked</th>\n",
       "      <th>dew_top_1</th>\n",
       "      <th>dew_top_3</th>\n",
       "      <th>dew_top_None</th>\n",
       "    </tr>\n",
       "    <tr>\n",
       "      <th>experiment AUROC Scores</th>\n",
       "      <th></th>\n",
       "      <th></th>\n",
       "      <th></th>\n",
       "      <th></th>\n",
       "      <th></th>\n",
       "    </tr>\n",
       "  </thead>\n",
       "  <tbody>\n",
       "    <tr>\n",
       "      <th>diabetic_retinopathy_final__MNAR</th>\n",
       "      <td>72.598</td>\n",
       "      <td>64.256</td>\n",
       "      <td>70.160</td>\n",
       "      <td>72.638</td>\n",
       "      <td>72.660</td>\n",
       "    </tr>\n",
       "    <tr>\n",
       "      <th>diabetic_retinopathy_final__MAR</th>\n",
       "      <td>74.370</td>\n",
       "      <td>68.338</td>\n",
       "      <td>70.926</td>\n",
       "      <td>73.450</td>\n",
       "      <td>74.308</td>\n",
       "    </tr>\n",
       "    <tr>\n",
       "      <th>diabetic_retinopathy_final__MCAR</th>\n",
       "      <td>73.184</td>\n",
       "      <td>65.800</td>\n",
       "      <td>69.206</td>\n",
       "      <td>72.244</td>\n",
       "      <td>73.272</td>\n",
       "    </tr>\n",
       "    <tr>\n",
       "      <th>eeg_eye_state__MCAR</th>\n",
       "      <td>83.482</td>\n",
       "      <td>82.392</td>\n",
       "      <td>82.694</td>\n",
       "      <td>84.708</td>\n",
       "      <td>83.796</td>\n",
       "    </tr>\n",
       "    <tr>\n",
       "      <th>eeg_eye_state__MAR</th>\n",
       "      <td>86.548</td>\n",
       "      <td>86.566</td>\n",
       "      <td>86.174</td>\n",
       "      <td>88.096</td>\n",
       "      <td>87.002</td>\n",
       "    </tr>\n",
       "    <tr>\n",
       "      <th>wisconsin_bc_diagnosis__MCAR</th>\n",
       "      <td>98.926</td>\n",
       "      <td>96.738</td>\n",
       "      <td>98.764</td>\n",
       "      <td>98.848</td>\n",
       "      <td>98.932</td>\n",
       "    </tr>\n",
       "    <tr>\n",
       "      <th>wisconsin_bc_diagnosis__MAR</th>\n",
       "      <td>99.026</td>\n",
       "      <td>98.090</td>\n",
       "      <td>98.670</td>\n",
       "      <td>98.878</td>\n",
       "      <td>99.038</td>\n",
       "    </tr>\n",
       "    <tr>\n",
       "      <th>wisconsin_bc_diagnosis__MNAR</th>\n",
       "      <td>99.286</td>\n",
       "      <td>96.766</td>\n",
       "      <td>98.930</td>\n",
       "      <td>99.148</td>\n",
       "      <td>99.274</td>\n",
       "    </tr>\n",
       "    <tr>\n",
       "      <th>wisconsin_bc_prognosis__MCAR</th>\n",
       "      <td>58.856</td>\n",
       "      <td>49.346</td>\n",
       "      <td>53.754</td>\n",
       "      <td>59.512</td>\n",
       "      <td>58.940</td>\n",
       "    </tr>\n",
       "    <tr>\n",
       "      <th>wisconsin_bc_prognosis__MNAR</th>\n",
       "      <td>62.282</td>\n",
       "      <td>50.170</td>\n",
       "      <td>63.764</td>\n",
       "      <td>63.976</td>\n",
       "      <td>62.286</td>\n",
       "    </tr>\n",
       "    <tr>\n",
       "      <th>wisconsin_bc_prognosis__MAR</th>\n",
       "      <td>54.388</td>\n",
       "      <td>56.028</td>\n",
       "      <td>57.864</td>\n",
       "      <td>52.418</td>\n",
       "      <td>54.622</td>\n",
       "    </tr>\n",
       "    <tr>\n",
       "      <th>cleveland_heart_disease__MAR</th>\n",
       "      <td>87.256</td>\n",
       "      <td>84.614</td>\n",
       "      <td>83.012</td>\n",
       "      <td>85.820</td>\n",
       "      <td>87.280</td>\n",
       "    </tr>\n",
       "    <tr>\n",
       "      <th>cleveland_heart_disease__MCAR</th>\n",
       "      <td>89.198</td>\n",
       "      <td>80.836</td>\n",
       "      <td>86.722</td>\n",
       "      <td>88.382</td>\n",
       "      <td>89.174</td>\n",
       "    </tr>\n",
       "    <tr>\n",
       "      <th>cleveland_heart_disease__MNAR</th>\n",
       "      <td>88.536</td>\n",
       "      <td>81.132</td>\n",
       "      <td>85.058</td>\n",
       "      <td>86.580</td>\n",
       "      <td>88.444</td>\n",
       "    </tr>\n",
       "  </tbody>\n",
       "</table>\n",
       "</div>"
      ],
      "text/plain": [
       "                                  Uniform Model Averaging  stacked  dew_top_1  \\\n",
       "experiment AUROC Scores                                                         \n",
       "diabetic_retinopathy_final__MNAR                   72.598   64.256     70.160   \n",
       "diabetic_retinopathy_final__MAR                    74.370   68.338     70.926   \n",
       "diabetic_retinopathy_final__MCAR                   73.184   65.800     69.206   \n",
       "eeg_eye_state__MCAR                                83.482   82.392     82.694   \n",
       "eeg_eye_state__MAR                                 86.548   86.566     86.174   \n",
       "wisconsin_bc_diagnosis__MCAR                       98.926   96.738     98.764   \n",
       "wisconsin_bc_diagnosis__MAR                        99.026   98.090     98.670   \n",
       "wisconsin_bc_diagnosis__MNAR                       99.286   96.766     98.930   \n",
       "wisconsin_bc_prognosis__MCAR                       58.856   49.346     53.754   \n",
       "wisconsin_bc_prognosis__MNAR                       62.282   50.170     63.764   \n",
       "wisconsin_bc_prognosis__MAR                        54.388   56.028     57.864   \n",
       "cleveland_heart_disease__MAR                       87.256   84.614     83.012   \n",
       "cleveland_heart_disease__MCAR                      89.198   80.836     86.722   \n",
       "cleveland_heart_disease__MNAR                      88.536   81.132     85.058   \n",
       "\n",
       "                                  dew_top_3  dew_top_None  \n",
       "experiment AUROC Scores                                    \n",
       "diabetic_retinopathy_final__MNAR     72.638        72.660  \n",
       "diabetic_retinopathy_final__MAR      73.450        74.308  \n",
       "diabetic_retinopathy_final__MCAR     72.244        73.272  \n",
       "eeg_eye_state__MCAR                  84.708        83.796  \n",
       "eeg_eye_state__MAR                   88.096        87.002  \n",
       "wisconsin_bc_diagnosis__MCAR         98.848        98.932  \n",
       "wisconsin_bc_diagnosis__MAR          98.878        99.038  \n",
       "wisconsin_bc_diagnosis__MNAR         99.148        99.274  \n",
       "wisconsin_bc_prognosis__MCAR         59.512        58.940  \n",
       "wisconsin_bc_prognosis__MNAR         63.976        62.286  \n",
       "wisconsin_bc_prognosis__MAR          52.418        54.622  \n",
       "cleveland_heart_disease__MAR         85.820        87.280  \n",
       "cleveland_heart_disease__MCAR        88.382        89.174  \n",
       "cleveland_heart_disease__MNAR        86.580        88.444  "
      ]
     },
     "execution_count": 160,
     "metadata": {},
     "output_type": "execute_result"
    }
   ],
   "source": [
    "exp_names = []\n",
    "miss_types = []\n",
    "exp_type_list = []\n",
    "ensemble_auc_scores = []\n",
    "\n",
    "for e in all_exp_dirs:\n",
    "    exp_names.append(e.split('/')[8] + '__' + e.split('/')[-1])\n",
    "    exp_type_list.append(e.split('/')[8])\n",
    "    miss_types.append(e.split('/')[-1])\n",
    "    metrics_df = pd.read_csv(os.path.join(e, 'final_results.csv'), index_col=0)\n",
    "    ensemble_aucs = metrics_df.iloc[0,-5:]\n",
    "    ensemble_auc_scores.append(np.ravel(ensemble_aucs))\n",
    "    \n",
    "df = pd.DataFrame(np.vstack(ensemble_auc_scores))\n",
    "df.columns = ensemble_aucs.index\n",
    "df = df.rename(columns={\"<class 'sklearn.ensemble._stacking.StackingClassifier'>\": 'stacked'})\n",
    "df.index = exp_names\n",
    "df.index.name = 'experiment AUROC Scores'\n",
    "df *= 100\n",
    "df"
   ]
  },
  {
   "cell_type": "code",
   "execution_count": 153,
   "id": "22d72db9-3923-48a7-86e5-8106ef043da3",
   "metadata": {},
   "outputs": [
    {
     "name": "stdout",
     "output_type": "stream",
     "text": [
      "['../data/', '../data/diabetic_retinopathy_dataset.csv', '../data/wpbc.names', '../data/wdbc.names', '../data/risk_factors_cervical_cancer.csv', '../data/MI.data', '../data/parkinsons', '../data/parkinsons/train_data.txt', '../data/parkinsons/test_data.txt', '../data/diabetes_vcu.csv', '../data/eeg_eye_state.csv', '../data/wdbc.data', '../data/wpbc.data', '../data/heart_cleveland_upload.csv']\n"
     ]
    },
    {
     "name": "stderr",
     "output_type": "stream",
     "text": [
      "/var/folders/j7/gbh6cfvd385f76826jf15f_c0000gn/T/ipykernel_30500/460945964.py:23: FutureWarning: Using a non-tuple sequence for multidimensional indexing is deprecated; use `arr[tuple(seq)]` instead of `arr[seq]`. In the future this will be interpreted as an array index, `arr[np.array(seq)]`, which will result either in an error or a different result.\n",
      "  abs_corr_df.values[[np.arange(abs_corr_df.shape[0])]*2] = abs_corr_df.median(axis=0)\n",
      "/var/folders/j7/gbh6cfvd385f76826jf15f_c0000gn/T/ipykernel_30500/460945964.py:23: FutureWarning: Using a non-tuple sequence for multidimensional indexing is deprecated; use `arr[tuple(seq)]` instead of `arr[seq]`. In the future this will be interpreted as an array index, `arr[np.array(seq)]`, which will result either in an error or a different result.\n",
      "  abs_corr_df.values[[np.arange(abs_corr_df.shape[0])]*2] = abs_corr_df.median(axis=0)\n",
      "/var/folders/j7/gbh6cfvd385f76826jf15f_c0000gn/T/ipykernel_30500/460945964.py:23: FutureWarning: Using a non-tuple sequence for multidimensional indexing is deprecated; use `arr[tuple(seq)]` instead of `arr[seq]`. In the future this will be interpreted as an array index, `arr[np.array(seq)]`, which will result either in an error or a different result.\n",
      "  abs_corr_df.values[[np.arange(abs_corr_df.shape[0])]*2] = abs_corr_df.median(axis=0)\n",
      "/var/folders/j7/gbh6cfvd385f76826jf15f_c0000gn/T/ipykernel_30500/460945964.py:23: FutureWarning: Using a non-tuple sequence for multidimensional indexing is deprecated; use `arr[tuple(seq)]` instead of `arr[seq]`. In the future this will be interpreted as an array index, `arr[np.array(seq)]`, which will result either in an error or a different result.\n",
      "  abs_corr_df.values[[np.arange(abs_corr_df.shape[0])]*2] = abs_corr_df.median(axis=0)\n",
      "/var/folders/j7/gbh6cfvd385f76826jf15f_c0000gn/T/ipykernel_30500/460945964.py:23: FutureWarning: Using a non-tuple sequence for multidimensional indexing is deprecated; use `arr[tuple(seq)]` instead of `arr[seq]`. In the future this will be interpreted as an array index, `arr[np.array(seq)]`, which will result either in an error or a different result.\n",
      "  abs_corr_df.values[[np.arange(abs_corr_df.shape[0])]*2] = abs_corr_df.median(axis=0)\n",
      "/var/folders/j7/gbh6cfvd385f76826jf15f_c0000gn/T/ipykernel_30500/460945964.py:23: FutureWarning: Using a non-tuple sequence for multidimensional indexing is deprecated; use `arr[tuple(seq)]` instead of `arr[seq]`. In the future this will be interpreted as an array index, `arr[np.array(seq)]`, which will result either in an error or a different result.\n",
      "  abs_corr_df.values[[np.arange(abs_corr_df.shape[0])]*2] = abs_corr_df.median(axis=0)\n",
      "/var/folders/j7/gbh6cfvd385f76826jf15f_c0000gn/T/ipykernel_30500/460945964.py:23: FutureWarning: Using a non-tuple sequence for multidimensional indexing is deprecated; use `arr[tuple(seq)]` instead of `arr[seq]`. In the future this will be interpreted as an array index, `arr[np.array(seq)]`, which will result either in an error or a different result.\n",
      "  abs_corr_df.values[[np.arange(abs_corr_df.shape[0])]*2] = abs_corr_df.median(axis=0)\n",
      "/var/folders/j7/gbh6cfvd385f76826jf15f_c0000gn/T/ipykernel_30500/460945964.py:23: FutureWarning: Using a non-tuple sequence for multidimensional indexing is deprecated; use `arr[tuple(seq)]` instead of `arr[seq]`. In the future this will be interpreted as an array index, `arr[np.array(seq)]`, which will result either in an error or a different result.\n",
      "  abs_corr_df.values[[np.arange(abs_corr_df.shape[0])]*2] = abs_corr_df.median(axis=0)\n",
      "/var/folders/j7/gbh6cfvd385f76826jf15f_c0000gn/T/ipykernel_30500/460945964.py:23: FutureWarning: Using a non-tuple sequence for multidimensional indexing is deprecated; use `arr[tuple(seq)]` instead of `arr[seq]`. In the future this will be interpreted as an array index, `arr[np.array(seq)]`, which will result either in an error or a different result.\n",
      "  abs_corr_df.values[[np.arange(abs_corr_df.shape[0])]*2] = abs_corr_df.median(axis=0)\n"
     ]
    },
    {
     "data": {
      "image/png": "[encoded data removed]",
      "text/plain": [
       "<Figure size 1152x864 with 1 Axes>"
      ]
     },
     "metadata": {
      "needs_background": "light"
     },
     "output_type": "display_data"
    }
   ],
   "source": [
    "# from data_loaders import DataLoadersEnum\n",
    "\n",
    "from matplotlib import colors as mcolors\n",
    "colors = dict(mcolors.BASE_COLORS, **mcolors.CSS4_COLORS)\n",
    "\n",
    "# Sort colors by hue, saturation, value and name.\n",
    "by_hsv = sorted((tuple(mcolors.rgb_to_hsv(mcolors.to_rgba(color)[:3])), name)\n",
    "                for name, color in colors.items())\n",
    "sorted_names = [name for hsv, name in by_hsv]\n",
    "\n",
    "files = glob.glob('../data/**', recursive=True)\n",
    "print(files)\n",
    "usable_files = []\n",
    "\n",
    "for f in files:\n",
    "    try:\n",
    "        _ = pd.read_csv(f)\n",
    "        usable_files.append(f)\n",
    "    except:\n",
    "        continue\n",
    "\n",
    "usable_files.remove('../data/parkinsons/test_data.txt')\n",
    "n_usable_files = len(usable_files)\n",
    "\n",
    "colors_used = [sorted_names[i] for i in range(0,len(sorted_names), n_usable_files)]\n",
    "patches = [mpatches.Patch(color=c, label=f) for c, f in zip(colors_used, usable_files)]\n",
    "\n",
    "plt.figure(figsize=(16,12))\n",
    "\n",
    "for i, f in enumerate(usable_files):\n",
    "    try:\n",
    "        # df = pd.read_csv('../data/parkinsons/train_data.txt', header=None, index_col=0)\n",
    "        df = pd.read_csv(f)\n",
    "        plot_correlation_distribution(df=df, title=f, color=colors_used[i], how='max')\n",
    "    except Exception as e:\n",
    "        print(f, e)\n",
    "        \n",
    "plt.legend(handles = patches)\n",
    "plt.show()"
   ]
  },
  {
   "cell_type": "code",
   "execution_count": null,
   "id": "c81a9d54-5ae2-4176-8ebf-87e6546a2730",
   "metadata": {},
   "outputs": [],
   "source": [
    "LSAC DAtaset\n",
    "student performance dataset"
   ]
  }
 ],
 "metadata": {
  "kernelspec": {
   "display_name": "Python 3 (ipykernel)",
   "language": "python",
   "name": "python3"
  },
  "language_info": {
   "codemirror_mode": {
    "name": "ipython",
    "version": 3
   },
   "file_extension": ".py",
   "mimetype": "text/x-python",
   "name": "python",
   "nbconvert_exporter": "python",
   "pygments_lexer": "ipython3",
   "version": "3.8.12"
  }
 },
 "nbformat": 4,
 "nbformat_minor": 5
}
